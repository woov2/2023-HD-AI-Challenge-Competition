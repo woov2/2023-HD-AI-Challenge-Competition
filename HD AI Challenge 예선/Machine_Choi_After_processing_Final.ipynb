{
 "cells": [
  {
   "cell_type": "markdown",
   "id": "d2939a37",
   "metadata": {},
   "source": [
    "# Environment\n",
    "- GPU : NVIDIA GeForce RTX 3070\n",
    "- CPU : 12th Gen Intel(R) Core(TM) i5-12600K"
   ]
  },
  {
   "cell_type": "markdown",
   "id": "e65d7cb9-40e9-49cc-8e97-4b78a8bfe7fe",
   "metadata": {},
   "source": [
    "## Library version check"
   ]
  },
  {
   "cell_type": "code",
   "execution_count": 2,
   "id": "c9af06dc",
   "metadata": {},
   "outputs": [
    {
     "name": "stdout",
     "output_type": "stream",
     "text": [
      "-------------------------- Python & library version --------------------------\n",
      "Python version: 3.9.13 (main, Aug 25 2022, 23:51:50) [MSC v.1916 64 bit (AMD64)]\n",
      "pandas version: 2.1.2\n",
      "numpy version: 1.23.5\n",
      "matplotlib version: 3.5.2\n",
      "tqdm version: 4.65.0\n",
      "sktime version: 0.20.1\n",
      "xgboost version: 1.7.6\n",
      "seaborn version: 0.11.2\n",
      "scikit-learn version: 1.0.2\n",
      "------------------------------------------------------------------------------\n"
     ]
    }
   ],
   "source": [
    "import sys\n",
    "import sktime\n",
    "import tqdm as tq\n",
    "import xgboost as xgb\n",
    "import matplotlib\n",
    "import seaborn as sns\n",
    "import sklearn as skl\n",
    "import pandas as pd\n",
    "import numpy as np\n",
    "from pandas import Timestamp\n",
    "from datetime import datetime\n",
    "from datetime import timedelta\n",
    "print(\"-------------------------- Python & library version --------------------------\")\n",
    "print(\"Python version: {}\".format(sys.version))\n",
    "print(\"pandas version: {}\".format(pd.__version__))\n",
    "print(\"numpy version: {}\".format(np.__version__))\n",
    "print(\"matplotlib version: {}\".format(matplotlib.__version__))\n",
    "print(\"tqdm version: {}\".format(tq.__version__))\n",
    "print(\"sktime version: {}\".format(sktime.__version__))\n",
    "print(\"xgboost version: {}\".format(xgb.__version__))\n",
    "print(\"seaborn version: {}\".format(sns.__version__))\n",
    "print(\"scikit-learn version: {}\".format(skl.__version__))\n",
    "print(\"------------------------------------------------------------------------------\")"
   ]
  },
  {
   "cell_type": "code",
   "execution_count": 3,
   "id": "6a9eb6ac",
   "metadata": {},
   "outputs": [],
   "source": [
    "import matplotlib.pyplot as plt\n",
    "#시각화 설정\n",
    "plt.style.use('fivethirtyeight')\n",
    "plt.rcParams['font.size'] = 15\n",
    "# 사용자 운영체제 확인\n",
    "import os\n",
    "os.name\n",
    "\n",
    "# 운영체제별 한글 폰트 설정\n",
    "if os.name == 'posix': # Mac 환경 폰트 설정\n",
    "    plt.rc('font', family='AppleGothic')\n",
    "elif os.name == 'nt': # Windows 환경 폰트 설정\n",
    "    plt.rc('font', family='Malgun Gothic')\n",
    "\n",
    "plt.rc('axes', unicode_minus=False) # 마이너스 폰트 설정\n",
    "\n",
    "\n",
    "# 글씨 선명하게 출력하는 설정\n",
    "%config InlineBackend.figure_format = 'retina'"
   ]
  },
  {
   "cell_type": "markdown",
   "id": "4156dcef-65d2-46a5-8bf6-1ddaa9f00f84",
   "metadata": {},
   "source": [
    "## 0. load the libararies"
   ]
  },
  {
   "cell_type": "code",
   "execution_count": 4,
   "id": "f9a46571",
   "metadata": {},
   "outputs": [],
   "source": [
    "import pickle"
   ]
  },
  {
   "cell_type": "code",
   "execution_count": 5,
   "id": "d6b5e25e-f9a1-4980-ac53-6cdb73b3d0d4",
   "metadata": {},
   "outputs": [],
   "source": [
    "import bisect\n",
    "from sklearn.preprocessing import LabelEncoder\n",
    "from sklearn.metrics import mean_absolute_error\n",
    "from sklearn.model_selection import StratifiedKFold , KFold\n",
    "import matplotlib.pyplot as plt\n",
    "from tqdm import tqdm\n",
    "from xgboost import XGBRegressor\n",
    "import warnings\n",
    "\n",
    "pd.set_option('display.max_columns', 200)"
   ]
  },
  {
   "cell_type": "markdown",
   "id": "346c647e",
   "metadata": {},
   "source": [
    "# 후처리 방향"
   ]
  },
  {
   "cell_type": "markdown",
   "id": "087ce925",
   "metadata": {},
   "source": [
    "train data의 날씨 컬럼이 도착기준 예보날짜이기 때문에 이를 통해 어느정도 날씨의 정보를 이용해 도착 예상 날짜를 예측할 수 있다.  \n",
    "Dacon 측에서 train에 해당하는 데이터 모두 추론시점에서 이미 다 알고있다는 가정하에 진행하였으므로 test가 어떤 것이 들어오는 모든 data를 사용가능하다.  "
   ]
  },
  {
   "cell_type": "markdown",
   "id": "5316653e",
   "metadata": {},
   "source": [
    "train data에서 ATA에 target값인 CI_HOUR 를 더해 bert_date 즉 도착했을 때의 시점을 만들고 나라, 항구, 날씨정보들을 통해 도착예상 날짜들을  train 기반으로 생성하고 이를 test에 merge한 후 해당 test의 ata에 따라 train에서 얻은 정보 중에 사용할 train데이터를 선정해 활용하는 방식."
   ]
  },
  {
   "cell_type": "markdown",
   "id": "2ac6b41d",
   "metadata": {},
   "source": [
    "train data를 통해 얻은 정보를 test에 merge하는 과정 = data_leakage 가 아니다. test시점은 train이 모두 일어난 후로 본 대회에서 정의.  \n",
    "test에서 test 정보에 따라 위의 정보를 선정하는 과정 = data_leakage 가 아니다. test가 어떤 방식으로 들어오든 처리가 가능하고, test 내에서의 열연산 이기 때문에 가능하다."
   ]
  },
  {
   "cell_type": "markdown",
   "id": "542471bf",
   "metadata": {},
   "source": [
    "train data에서 bert_date를 만들때 최대 값과 최소 값을 비교하여 이가 240 즉 10일 이상 차이날 경우 평균을 사용하는 데에 위험부담이 있기 때문에 min값만을 사용하고 diff가 240보다 작다면 mean값을 사용한다."
   ]
  },
  {
   "cell_type": "markdown",
   "id": "2b3b09e2-4ff2-426a-a11d-7512ef73265b",
   "metadata": {},
   "source": [
    "## 1. Load Data"
   ]
  },
  {
   "cell_type": "code",
   "execution_count": 6,
   "id": "74194b8b",
   "metadata": {},
   "outputs": [],
   "source": [
    "train = pd.read_csv('../data/train.csv')#.drop(columns=['SAMPLE_ID'])\n",
    "test = pd.read_csv('../data/test.csv')#.drop(columns=['SAMPLE_ID'])"
   ]
  },
  {
   "cell_type": "code",
   "execution_count": 7,
   "id": "6fd191ae",
   "metadata": {},
   "outputs": [],
   "source": [
    "submission = pd.read_csv('../submission/sample_submission.csv')#.drop(columns=['SAMPLE_ID'])"
   ]
  },
  {
   "cell_type": "markdown",
   "id": "eac8405b",
   "metadata": {},
   "source": [
    "null값이 없는 데이터만 선택. air_temp 가 nan인 값도 의미가 있다고 판단해 처리하지 않음."
   ]
  },
  {
   "cell_type": "code",
   "execution_count": 8,
   "id": "aa2c7d2b",
   "metadata": {},
   "outputs": [],
   "source": [
    "train_weather = train[train['U_WIND'].notnull()].copy()\n",
    "test_weather = test[test['U_WIND'].notnull()].copy()"
   ]
  },
  {
   "cell_type": "code",
   "execution_count": 9,
   "id": "539f70ad",
   "metadata": {},
   "outputs": [],
   "source": [
    "train_weather['ATA'] = pd.to_datetime(train_weather['ATA'])  # 'ATA' 열을 날짜 및 시간 형식으로 변환\n",
    "train_weather['bert_date'] = train_weather['ATA'] + pd.to_timedelta(train_weather['CI_HOUR'], unit=\"hours\")\n",
    "train_weather['bert_date_date'] = train_weather['bert_date'].dt.floor('D').astype('str')\n",
    "train_weather['bert_year'] = train_weather['bert_date'].dt.year\n",
    "train_weather['bert_month'] = train_weather['bert_date'].dt.month\n",
    "train_weather['bert_day'] = train_weather['bert_date'].dt.day\n",
    "train_weather['bert_hour'] = train_weather['bert_date'].dt.hour\n",
    "train_weather['bert_minute'] = train_weather['bert_date'].dt.minute"
   ]
  },
  {
   "cell_type": "code",
   "execution_count": 10,
   "id": "a694550d",
   "metadata": {},
   "outputs": [],
   "source": [
    "train_weather['check_bert'] = train_weather['ARI_CO'].astype(str) + '_' + train_weather['ARI_PO'].astype(str) + '_' + train_weather['U_WIND'].astype(str) + '_' + train_weather['V_WIND'].astype(str) + '_' + train_weather['AIR_TEMPERATURE'].astype(str) + '_' + train_weather['BN'].astype(str)\n",
    "test_weather['check_bert'] = test_weather['ARI_CO'].astype(str) + '_' + test_weather['ARI_PO'].astype(str) + '_' + test_weather['U_WIND'].astype(str) + '_' + test_weather['V_WIND'].astype(str) + '_' + test_weather['AIR_TEMPERATURE'].astype(str) + '_' + test_weather['BN'].astype(str)"
   ]
  },
  {
   "cell_type": "code",
   "execution_count": 11,
   "id": "5e845a1a",
   "metadata": {},
   "outputs": [],
   "source": [
    "Check_Bert = pd.DataFrame(train_weather.groupby('check_bert')['bert_date'].max()).reset_index()"
   ]
  },
  {
   "cell_type": "code",
   "execution_count": 12,
   "id": "3dbc8680",
   "metadata": {},
   "outputs": [],
   "source": [
    "Check_Bert.columns = ['check_bert', 'max_ata']"
   ]
  },
  {
   "cell_type": "code",
   "execution_count": 13,
   "id": "e2a3b6b4",
   "metadata": {},
   "outputs": [],
   "source": [
    "tmp = pd.DataFrame(train_weather.groupby('check_bert')['bert_date'].min()).reset_index()\n",
    "tmp.columns = ['check_bert', 'min_ata']\n",
    "Check_Bert = Check_Bert.merge(tmp, on='check_bert')"
   ]
  },
  {
   "cell_type": "code",
   "execution_count": 14,
   "id": "0996740b",
   "metadata": {},
   "outputs": [],
   "source": [
    "tmp = pd.DataFrame(train_weather.groupby('check_bert')['bert_date'].count()).reset_index()\n",
    "tmp.columns = ['check_bert', 'count_ata']\n",
    "Check_Bert = Check_Bert.merge(tmp, on='check_bert')"
   ]
  },
  {
   "cell_type": "code",
   "execution_count": 15,
   "id": "0f6bf05e",
   "metadata": {},
   "outputs": [],
   "source": [
    "Check_Bert['diff_ata'] = (Check_Bert['max_ata'] - Check_Bert['min_ata']).dt.total_seconds()/ 3600"
   ]
  },
  {
   "cell_type": "markdown",
   "id": "2bb3243a",
   "metadata": {},
   "source": [
    "***"
   ]
  },
  {
   "cell_type": "markdown",
   "id": "c4929d7c",
   "metadata": {},
   "source": [
    "위에서 정의했던 240 즉 10일을 기준으로 데이터를 분리 및 따로 처리"
   ]
  },
  {
   "cell_type": "code",
   "execution_count": 16,
   "id": "4439446a",
   "metadata": {},
   "outputs": [],
   "source": [
    "Check_Bert_under10 = Check_Bert[Check_Bert['diff_ata'] < 240].copy()"
   ]
  },
  {
   "cell_type": "code",
   "execution_count": 17,
   "id": "825bfbe3",
   "metadata": {},
   "outputs": [],
   "source": [
    "Check_Bert_over10 = Check_Bert[Check_Bert['diff_ata'] >= 240].copy()"
   ]
  },
  {
   "cell_type": "markdown",
   "id": "6260bbeb",
   "metadata": {},
   "source": [
    "***"
   ]
  },
  {
   "cell_type": "markdown",
   "id": "1fc78cc8",
   "metadata": {},
   "source": [
    "# 🎈😶 under 10 처리"
   ]
  },
  {
   "cell_type": "markdown",
   "id": "17e260f4",
   "metadata": {},
   "source": [
    "diff가 적다면 mean을 활용함이 유리하다고 판단.  \n",
    "train에서 얻은 bert_date들 중 최대값과 최소값의 평균치를 사용.  "
   ]
  },
  {
   "cell_type": "code",
   "execution_count": 18,
   "id": "803f555f",
   "metadata": {},
   "outputs": [],
   "source": [
    "Check_Bert_under10 = Check_Bert_under10.copy()\n",
    "Check_Bert_under10['max_ata_seconds'] = (Check_Bert_under10['max_ata'] - pd.Timestamp(0)).dt.total_seconds()\n",
    "Check_Bert_under10['min_ata_seconds'] = (Check_Bert_under10['min_ata'] - pd.Timestamp(0)).dt.total_seconds()\n",
    "Check_Bert_under10['avg_ata_seconds'] = (Check_Bert_under10['max_ata_seconds'] + Check_Bert_under10['min_ata_seconds']) / 2\n",
    "Check_Bert_under10['bert_date'] = pd.Timestamp(0) + pd.to_timedelta(np.array(Check_Bert_under10['avg_ata_seconds']), unit='s')"
   ]
  },
  {
   "cell_type": "code",
   "execution_count": 19,
   "id": "6bf0b495",
   "metadata": {},
   "outputs": [],
   "source": [
    "test_weather_under10 = test_weather.merge(Check_Bert_under10[['check_bert','bert_date']], on='check_bert', how='left')"
   ]
  },
  {
   "cell_type": "code",
   "execution_count": 20,
   "id": "bbca9613",
   "metadata": {},
   "outputs": [],
   "source": [
    "test_weather_under10 = test_weather_under10[test_weather_under10['bert_date'].notnull()]"
   ]
  },
  {
   "cell_type": "code",
   "execution_count": 21,
   "id": "8582bf8f",
   "metadata": {
    "scrolled": true
   },
   "outputs": [
    {
     "data": {
      "text/plain": [
       "63774"
      ]
     },
     "execution_count": 21,
     "metadata": {},
     "output_type": "execute_result"
    }
   ],
   "source": [
    "len(test_weather_under10)"
   ]
  },
  {
   "cell_type": "code",
   "execution_count": 22,
   "id": "f82cce70",
   "metadata": {},
   "outputs": [],
   "source": [
    "test_weather_under10['ATA'] = pd.to_datetime(test_weather_under10['ATA'])\n",
    "test_weather_under10['real_ata_date'] = pd.to_datetime(test_weather_under10['ATA']).dt.floor('D')\n",
    "test_weather_under10['bert_ata_date'] = pd.to_datetime(test_weather_under10['bert_date']).dt.floor('D')\n",
    "test_weather_under10['real_ata_seconds'] = (test_weather_under10['ATA'] - pd.Timestamp(0)).dt.total_seconds() / 3600\n",
    "test_weather_under10['bert_ata_seconds'] = (test_weather_under10['bert_date'] - pd.Timestamp(0)).dt.total_seconds() / 3600"
   ]
  },
  {
   "cell_type": "markdown",
   "id": "b8faf410",
   "metadata": {},
   "source": [
    "예측한 bert_date가 test시점의 ata_date보다 이전이면 후처리 제외.  \n",
    "train에서 얻은 정보를 기반으로 test에서도 target값이 train의 target.max를 넘지 않을 것이라고 판단하여 제외.  "
   ]
  },
  {
   "cell_type": "code",
   "execution_count": 23,
   "id": "44cd3610",
   "metadata": {},
   "outputs": [],
   "source": [
    "test_weather_under10 = test_weather_under10[test_weather_under10['real_ata_date'] <= test_weather_under10['bert_ata_date']]"
   ]
  },
  {
   "cell_type": "code",
   "execution_count": 24,
   "id": "b2a62483",
   "metadata": {
    "scrolled": true
   },
   "outputs": [
    {
     "data": {
      "text/plain": [
       "2159.130556"
      ]
     },
     "execution_count": 24,
     "metadata": {},
     "output_type": "execute_result"
    }
   ],
   "source": [
    "train['CI_HOUR'].max()"
   ]
  },
  {
   "cell_type": "code",
   "execution_count": 25,
   "id": "a588e776",
   "metadata": {},
   "outputs": [],
   "source": [
    "test_weather_under10 = test_weather_under10[test_weather_under10['bert_ata_seconds'] <= (test_weather_under10['real_ata_seconds']+2159.130556)]"
   ]
  },
  {
   "cell_type": "code",
   "execution_count": 26,
   "id": "11eb63f2",
   "metadata": {},
   "outputs": [],
   "source": [
    "test_weather_under10['CI_HOUR'] = test_weather_under10['bert_ata_seconds'] - test_weather_under10['real_ata_seconds']"
   ]
  },
  {
   "cell_type": "code",
   "execution_count": 27,
   "id": "3796c3f5",
   "metadata": {},
   "outputs": [],
   "source": [
    "test_weather_under10.loc[test_weather_under10['CI_HOUR'] < 0, 'CI_HOUR'] = 0\n",
    "test_weather_under10.loc[test_weather_under10['DIST'] == 0, 'CI_HOUR'] = 0"
   ]
  },
  {
   "cell_type": "markdown",
   "id": "1c03d7f0",
   "metadata": {},
   "source": [
    "***"
   ]
  },
  {
   "cell_type": "markdown",
   "id": "4090abf6",
   "metadata": {},
   "source": [
    "# (●'◡'●) 여기에 submission을 넣으세요."
   ]
  },
  {
   "cell_type": "code",
   "execution_count": 28,
   "id": "72e0a75e",
   "metadata": {},
   "outputs": [],
   "source": [
    "submission = pd.read_csv('../submission/sample_submission.csv')"
   ]
  },
  {
   "cell_type": "code",
   "execution_count": 30,
   "id": "1f2a3571",
   "metadata": {},
   "outputs": [],
   "source": [
    "sub_jun = pd.read_csv('../submission/lgbm_seed_ensem.csv')\n",
    "sub_woo = pd.read_csv('../submission/final_sub_woo.csv')"
   ]
  },
  {
   "cell_type": "markdown",
   "id": "327258ca",
   "metadata": {},
   "source": [
    "두개의 모델을 7대3 으로 산술평균 앙상블 진행"
   ]
  },
  {
   "cell_type": "code",
   "execution_count": 31,
   "id": "c599c9ed",
   "metadata": {},
   "outputs": [],
   "source": [
    "submission['CI_HOUR'] = (0.7 * sub_jun['CI_HOUR']) + (0.3 * sub_woo['CI_HOUR'])"
   ]
  },
  {
   "cell_type": "code",
   "execution_count": 32,
   "id": "828dec48",
   "metadata": {},
   "outputs": [
    {
     "data": {
      "text/html": [
       "<div>\n",
       "<style scoped>\n",
       "    .dataframe tbody tr th:only-of-type {\n",
       "        vertical-align: middle;\n",
       "    }\n",
       "\n",
       "    .dataframe tbody tr th {\n",
       "        vertical-align: top;\n",
       "    }\n",
       "\n",
       "    .dataframe thead th {\n",
       "        text-align: right;\n",
       "    }\n",
       "</style>\n",
       "<table border=\"1\" class=\"dataframe\">\n",
       "  <thead>\n",
       "    <tr style=\"text-align: right;\">\n",
       "      <th></th>\n",
       "      <th>CI_HOUR</th>\n",
       "    </tr>\n",
       "  </thead>\n",
       "  <tbody>\n",
       "    <tr>\n",
       "      <th>count</th>\n",
       "      <td>220491.000000</td>\n",
       "    </tr>\n",
       "    <tr>\n",
       "      <th>mean</th>\n",
       "      <td>38.638491</td>\n",
       "    </tr>\n",
       "    <tr>\n",
       "      <th>std</th>\n",
       "      <td>71.825083</td>\n",
       "    </tr>\n",
       "    <tr>\n",
       "      <th>min</th>\n",
       "      <td>0.000000</td>\n",
       "    </tr>\n",
       "    <tr>\n",
       "      <th>25%</th>\n",
       "      <td>0.000000</td>\n",
       "    </tr>\n",
       "    <tr>\n",
       "      <th>50%</th>\n",
       "      <td>16.419769</td>\n",
       "    </tr>\n",
       "    <tr>\n",
       "      <th>75%</th>\n",
       "      <td>52.885908</td>\n",
       "    </tr>\n",
       "    <tr>\n",
       "      <th>max</th>\n",
       "      <td>1788.245121</td>\n",
       "    </tr>\n",
       "  </tbody>\n",
       "</table>\n",
       "</div>"
      ],
      "text/plain": [
       "             CI_HOUR\n",
       "count  220491.000000\n",
       "mean       38.638491\n",
       "std        71.825083\n",
       "min         0.000000\n",
       "25%         0.000000\n",
       "50%        16.419769\n",
       "75%        52.885908\n",
       "max      1788.245121"
      ]
     },
     "execution_count": 32,
     "metadata": {},
     "output_type": "execute_result"
    }
   ],
   "source": [
    "submission.describe()"
   ]
  },
  {
   "cell_type": "markdown",
   "id": "0b1563bc",
   "metadata": {},
   "source": [
    "test_weather_under10 조건에 해당하는 row만 submission에서 후처리 진행"
   ]
  },
  {
   "cell_type": "code",
   "execution_count": 33,
   "id": "a24291a2",
   "metadata": {},
   "outputs": [],
   "source": [
    "submission.loc[submission['SAMPLE_ID'].isin(test_weather_under10['SAMPLE_ID']), 'CI_HOUR'] = test_weather_under10['CI_HOUR'].tolist()"
   ]
  },
  {
   "cell_type": "code",
   "execution_count": 34,
   "id": "733a54e7",
   "metadata": {},
   "outputs": [
    {
     "data": {
      "text/html": [
       "<div>\n",
       "<style scoped>\n",
       "    .dataframe tbody tr th:only-of-type {\n",
       "        vertical-align: middle;\n",
       "    }\n",
       "\n",
       "    .dataframe tbody tr th {\n",
       "        vertical-align: top;\n",
       "    }\n",
       "\n",
       "    .dataframe thead th {\n",
       "        text-align: right;\n",
       "    }\n",
       "</style>\n",
       "<table border=\"1\" class=\"dataframe\">\n",
       "  <thead>\n",
       "    <tr style=\"text-align: right;\">\n",
       "      <th></th>\n",
       "      <th>CI_HOUR</th>\n",
       "    </tr>\n",
       "  </thead>\n",
       "  <tbody>\n",
       "    <tr>\n",
       "      <th>count</th>\n",
       "      <td>220491.000000</td>\n",
       "    </tr>\n",
       "    <tr>\n",
       "      <th>mean</th>\n",
       "      <td>46.442501</td>\n",
       "    </tr>\n",
       "    <tr>\n",
       "      <th>std</th>\n",
       "      <td>115.220445</td>\n",
       "    </tr>\n",
       "    <tr>\n",
       "      <th>min</th>\n",
       "      <td>0.000000</td>\n",
       "    </tr>\n",
       "    <tr>\n",
       "      <th>25%</th>\n",
       "      <td>0.000000</td>\n",
       "    </tr>\n",
       "    <tr>\n",
       "      <th>50%</th>\n",
       "      <td>13.301085</td>\n",
       "    </tr>\n",
       "    <tr>\n",
       "      <th>75%</th>\n",
       "      <td>53.002307</td>\n",
       "    </tr>\n",
       "    <tr>\n",
       "      <th>max</th>\n",
       "      <td>2154.033056</td>\n",
       "    </tr>\n",
       "  </tbody>\n",
       "</table>\n",
       "</div>"
      ],
      "text/plain": [
       "             CI_HOUR\n",
       "count  220491.000000\n",
       "mean       46.442501\n",
       "std       115.220445\n",
       "min         0.000000\n",
       "25%         0.000000\n",
       "50%        13.301085\n",
       "75%        53.002307\n",
       "max      2154.033056"
      ]
     },
     "execution_count": 34,
     "metadata": {},
     "output_type": "execute_result"
    }
   ],
   "source": [
    "submission.describe()"
   ]
  },
  {
   "cell_type": "markdown",
   "id": "21513758",
   "metadata": {},
   "source": [
    "***"
   ]
  },
  {
   "cell_type": "markdown",
   "id": "8f8f1ca1",
   "metadata": {},
   "source": [
    "# 🎈😶 over 10 처리"
   ]
  },
  {
   "cell_type": "markdown",
   "id": "1cd56adb",
   "metadata": {},
   "source": [
    "해당하는 train의 bert row들을 bert_lst에 저장"
   ]
  },
  {
   "cell_type": "markdown",
   "id": "6c3d913b",
   "metadata": {},
   "source": [
    "diff가 크다면 min 값을 활용함이 유리하다고 판단.  \n",
    "train에서 얻은 bert_date들 중 최소값의 평균치를 사용.  "
   ]
  },
  {
   "cell_type": "code",
   "execution_count": 35,
   "id": "9d09507b",
   "metadata": {},
   "outputs": [
    {
     "name": "stderr",
     "output_type": "stream",
     "text": [
      "100%|█████████████████████████████████████████████████████████████████████████████| 1287/1287 [00:11<00:00, 111.74it/s]\n"
     ]
    }
   ],
   "source": [
    "Check_Bert_over10['bert_lst'] = None\n",
    "bert_lst_accumulator = []\n",
    "\n",
    "for i in tqdm(range(len(Check_Bert_over10))):\n",
    "    check_b = Check_Bert_over10.iloc[i,0]\n",
    "    tmp = train_weather[train_weather['check_bert'] == check_b]\n",
    "    bert_lst_accumulator.append(tmp['bert_date'].tolist())"
   ]
  },
  {
   "cell_type": "code",
   "execution_count": 36,
   "id": "b9ee4962",
   "metadata": {},
   "outputs": [],
   "source": [
    "Check_Bert_over10['bert_lst'] = bert_lst_accumulator"
   ]
  },
  {
   "cell_type": "markdown",
   "id": "04671c8f",
   "metadata": {},
   "source": [
    "bert_lst에 위에서 이야기 했던 train의 bert_date들이 들어있음.  \n",
    "이후 test에 merge"
   ]
  },
  {
   "cell_type": "code",
   "execution_count": 37,
   "id": "d9a25aea",
   "metadata": {},
   "outputs": [],
   "source": [
    "test_weather_over10 = test_weather.merge(Check_Bert_over10[['check_bert','bert_lst']], on='check_bert', how='left')"
   ]
  },
  {
   "cell_type": "code",
   "execution_count": 38,
   "id": "8cda65df",
   "metadata": {},
   "outputs": [],
   "source": [
    "test_weather_over10 = test_weather_over10[test_weather_over10['bert_lst'].notnull()].copy()"
   ]
  },
  {
   "cell_type": "code",
   "execution_count": 39,
   "id": "3637c916",
   "metadata": {},
   "outputs": [
    {
     "data": {
      "text/plain": [
       "4122"
      ]
     },
     "execution_count": 39,
     "metadata": {},
     "output_type": "execute_result"
    }
   ],
   "source": [
    "len(test_weather_over10)"
   ]
  },
  {
   "cell_type": "markdown",
   "id": "b2b35455",
   "metadata": {},
   "source": [
    "***"
   ]
  },
  {
   "cell_type": "markdown",
   "id": "a6f1a73a",
   "metadata": {},
   "source": [
    "test 속의 행에 조건을 걸어 test 속에서 열 연산을 통해 effective_bert_lst 생성.  \n",
    "(조건 : test['ATA'] 가 bert값(여기서의 bert값은 test속에 있는 컬럼)보다 작거나 같고 크기차이가 train['CI_HOUR'].max()보다 크지 않을것)"
   ]
  },
  {
   "cell_type": "code",
   "execution_count": 40,
   "id": "0882e148",
   "metadata": {},
   "outputs": [],
   "source": [
    "test_weather_over10['effective_bert_lst'] = None"
   ]
  },
  {
   "cell_type": "code",
   "execution_count": 41,
   "id": "c05652b5",
   "metadata": {},
   "outputs": [],
   "source": [
    "test_weather_over10['ATA'] = pd.to_datetime(test_weather_over10['ATA'])"
   ]
  },
  {
   "cell_type": "code",
   "execution_count": 42,
   "id": "6c3452bb",
   "metadata": {
    "scrolled": true
   },
   "outputs": [
    {
     "name": "stderr",
     "output_type": "stream",
     "text": [
      "100%|█████████████████████████████████████████████████████████████████████████████| 4122/4122 [00:06<00:00, 610.28it/s]\n"
     ]
    }
   ],
   "source": [
    "effective_bert_lst_accumulator = []\n",
    "\n",
    "for i in tqdm(range(len(test_weather_over10))):\n",
    "    real_ata = test_weather_over10.iloc[i, 5]\n",
    "    bt_lst = test_weather_over10.iloc[i,23]\n",
    "    \n",
    "    tmp_lst = []\n",
    "    \n",
    "    for j in bt_lst:\n",
    "        comp_ata = pd.to_datetime(j)\n",
    "        \n",
    "        real_ata_date = real_ata.floor('D')\n",
    "        bert_ata_date = comp_ata.floor('D')\n",
    "        real_ata_seconds = (real_ata - pd.Timestamp(0)).total_seconds() / 3600\n",
    "        bert_ata_seconds = (comp_ata - pd.Timestamp(0)).total_seconds() / 3600\n",
    "        \n",
    "        if real_ata_date <= bert_ata_date:\n",
    "            if bert_ata_seconds <= (real_ata_seconds+2159.130556):\n",
    "                tmp_lst.append(comp_ata)\n",
    "        \n",
    "    effective_bert_lst_accumulator.append(tmp_lst)"
   ]
  },
  {
   "cell_type": "code",
   "execution_count": 43,
   "id": "31f9ad9b",
   "metadata": {},
   "outputs": [],
   "source": [
    "test_weather_over10['effective_bert_lst'] = effective_bert_lst_accumulator"
   ]
  },
  {
   "cell_type": "markdown",
   "id": "58a64400",
   "metadata": {},
   "source": [
    "***"
   ]
  },
  {
   "cell_type": "markdown",
   "id": "2724b4a0",
   "metadata": {},
   "source": [
    "effective_bert_lst 의 크기가 0이라면 이상한 값들 밖에 없는 것 이기 때문에 후처리에서 제외"
   ]
  },
  {
   "cell_type": "code",
   "execution_count": 44,
   "id": "813d7cf0",
   "metadata": {},
   "outputs": [],
   "source": [
    "test_weather_over10 = test_weather_over10[test_weather_over10['effective_bert_lst'].apply(lambda x: len(x) != 0)].copy()"
   ]
  },
  {
   "cell_type": "code",
   "execution_count": 45,
   "id": "2556bb37",
   "metadata": {},
   "outputs": [],
   "source": [
    "test_weather_over10['bert_date'] = None"
   ]
  },
  {
   "cell_type": "markdown",
   "id": "cb84e542",
   "metadata": {},
   "source": [
    "min값만 사용."
   ]
  },
  {
   "cell_type": "code",
   "execution_count": 46,
   "id": "5834edf9",
   "metadata": {},
   "outputs": [
    {
     "name": "stderr",
     "output_type": "stream",
     "text": [
      "100%|███████████████████████████████████████████████████████████████████████████| 3879/3879 [00:00<00:00, 16648.13it/s]\n"
     ]
    }
   ],
   "source": [
    "for i in tqdm(range(len(test_weather_over10))):\n",
    "    ata_lst = test_weather_over10.iloc[i, 24]\n",
    "    avg_sum = 0\n",
    "#     avg_sum += (max(ata_lst) - Timestamp(0)).total_seconds()\n",
    "    avg_sum += (min(ata_lst) - Timestamp(0)).total_seconds()\n",
    "    avg_sum = avg_sum #/2\n",
    "    average_timestamp = Timestamp(0) + timedelta(seconds=avg_sum)\n",
    "    test_weather_over10.iloc[i,25] = average_timestamp"
   ]
  },
  {
   "cell_type": "code",
   "execution_count": 47,
   "id": "87c190bc",
   "metadata": {},
   "outputs": [],
   "source": [
    "test_weather_over10['bert_date'] = pd.to_datetime(test_weather_over10['bert_date'])"
   ]
  },
  {
   "cell_type": "code",
   "execution_count": 48,
   "id": "1b7d3734",
   "metadata": {},
   "outputs": [],
   "source": [
    "test_weather_over10['real_ata_seconds'] = (test_weather_over10['ATA'] - pd.Timestamp(0)).dt.total_seconds() / 3600\n",
    "test_weather_over10['bert_ata_seconds'] = (test_weather_over10['bert_date'] - pd.Timestamp(0)).dt.total_seconds() / 3600"
   ]
  },
  {
   "cell_type": "code",
   "execution_count": 49,
   "id": "e4f696a6",
   "metadata": {},
   "outputs": [],
   "source": [
    "test_weather_over10['CI_HOUR'] = test_weather_over10['bert_ata_seconds'] - test_weather_over10['real_ata_seconds']"
   ]
  },
  {
   "cell_type": "code",
   "execution_count": 50,
   "id": "39b9dc82",
   "metadata": {},
   "outputs": [],
   "source": [
    "test_weather_over10.loc[test_weather_over10['CI_HOUR'] < 0, 'CI_HOUR'] = 0\n",
    "test_weather_over10.loc[test_weather_over10['DIST'] == 0, 'CI_HOUR'] = 0"
   ]
  },
  {
   "cell_type": "markdown",
   "id": "6c346f74",
   "metadata": {},
   "source": [
    "***"
   ]
  },
  {
   "cell_type": "code",
   "execution_count": 51,
   "id": "061d80e9",
   "metadata": {},
   "outputs": [
    {
     "data": {
      "text/html": [
       "<div>\n",
       "<style scoped>\n",
       "    .dataframe tbody tr th:only-of-type {\n",
       "        vertical-align: middle;\n",
       "    }\n",
       "\n",
       "    .dataframe tbody tr th {\n",
       "        vertical-align: top;\n",
       "    }\n",
       "\n",
       "    .dataframe thead th {\n",
       "        text-align: right;\n",
       "    }\n",
       "</style>\n",
       "<table border=\"1\" class=\"dataframe\">\n",
       "  <thead>\n",
       "    <tr style=\"text-align: right;\">\n",
       "      <th></th>\n",
       "      <th>CI_HOUR</th>\n",
       "    </tr>\n",
       "  </thead>\n",
       "  <tbody>\n",
       "    <tr>\n",
       "      <th>count</th>\n",
       "      <td>220491.000000</td>\n",
       "    </tr>\n",
       "    <tr>\n",
       "      <th>mean</th>\n",
       "      <td>46.442501</td>\n",
       "    </tr>\n",
       "    <tr>\n",
       "      <th>std</th>\n",
       "      <td>115.220445</td>\n",
       "    </tr>\n",
       "    <tr>\n",
       "      <th>min</th>\n",
       "      <td>0.000000</td>\n",
       "    </tr>\n",
       "    <tr>\n",
       "      <th>25%</th>\n",
       "      <td>0.000000</td>\n",
       "    </tr>\n",
       "    <tr>\n",
       "      <th>50%</th>\n",
       "      <td>13.301085</td>\n",
       "    </tr>\n",
       "    <tr>\n",
       "      <th>75%</th>\n",
       "      <td>53.002307</td>\n",
       "    </tr>\n",
       "    <tr>\n",
       "      <th>max</th>\n",
       "      <td>2154.033056</td>\n",
       "    </tr>\n",
       "  </tbody>\n",
       "</table>\n",
       "</div>"
      ],
      "text/plain": [
       "             CI_HOUR\n",
       "count  220491.000000\n",
       "mean       46.442501\n",
       "std       115.220445\n",
       "min         0.000000\n",
       "25%         0.000000\n",
       "50%        13.301085\n",
       "75%        53.002307\n",
       "max      2154.033056"
      ]
     },
     "execution_count": 51,
     "metadata": {},
     "output_type": "execute_result"
    }
   ],
   "source": [
    "submission.describe()"
   ]
  },
  {
   "cell_type": "markdown",
   "id": "1e3b1405",
   "metadata": {},
   "source": [
    "test_weather_over10 조건에 해당하는 row만 submission에서 후처리 진행"
   ]
  },
  {
   "cell_type": "code",
   "execution_count": 52,
   "id": "9c5a6e07",
   "metadata": {},
   "outputs": [],
   "source": [
    "submission.loc[submission['SAMPLE_ID'].isin(test_weather_over10['SAMPLE_ID']), 'CI_HOUR'] = test_weather_over10['CI_HOUR'].tolist()"
   ]
  },
  {
   "cell_type": "code",
   "execution_count": 53,
   "id": "0c52b805",
   "metadata": {},
   "outputs": [
    {
     "data": {
      "text/html": [
       "<div>\n",
       "<style scoped>\n",
       "    .dataframe tbody tr th:only-of-type {\n",
       "        vertical-align: middle;\n",
       "    }\n",
       "\n",
       "    .dataframe tbody tr th {\n",
       "        vertical-align: top;\n",
       "    }\n",
       "\n",
       "    .dataframe thead th {\n",
       "        text-align: right;\n",
       "    }\n",
       "</style>\n",
       "<table border=\"1\" class=\"dataframe\">\n",
       "  <thead>\n",
       "    <tr style=\"text-align: right;\">\n",
       "      <th></th>\n",
       "      <th>CI_HOUR</th>\n",
       "    </tr>\n",
       "  </thead>\n",
       "  <tbody>\n",
       "    <tr>\n",
       "      <th>count</th>\n",
       "      <td>220491.000000</td>\n",
       "    </tr>\n",
       "    <tr>\n",
       "      <th>mean</th>\n",
       "      <td>47.242550</td>\n",
       "    </tr>\n",
       "    <tr>\n",
       "      <th>std</th>\n",
       "      <td>118.696355</td>\n",
       "    </tr>\n",
       "    <tr>\n",
       "      <th>min</th>\n",
       "      <td>0.000000</td>\n",
       "    </tr>\n",
       "    <tr>\n",
       "      <th>25%</th>\n",
       "      <td>0.000000</td>\n",
       "    </tr>\n",
       "    <tr>\n",
       "      <th>50%</th>\n",
       "      <td>13.172348</td>\n",
       "    </tr>\n",
       "    <tr>\n",
       "      <th>75%</th>\n",
       "      <td>53.140983</td>\n",
       "    </tr>\n",
       "    <tr>\n",
       "      <th>max</th>\n",
       "      <td>2154.033056</td>\n",
       "    </tr>\n",
       "  </tbody>\n",
       "</table>\n",
       "</div>"
      ],
      "text/plain": [
       "             CI_HOUR\n",
       "count  220491.000000\n",
       "mean       47.242550\n",
       "std       118.696355\n",
       "min         0.000000\n",
       "25%         0.000000\n",
       "50%        13.172348\n",
       "75%        53.140983\n",
       "max      2154.033056"
      ]
     },
     "execution_count": 53,
     "metadata": {},
     "output_type": "execute_result"
    }
   ],
   "source": [
    "submission.describe()"
   ]
  },
  {
   "cell_type": "code",
   "execution_count": null,
   "id": "369fb653",
   "metadata": {},
   "outputs": [],
   "source": []
  },
  {
   "cell_type": "code",
   "execution_count": 54,
   "id": "5a6b936c",
   "metadata": {},
   "outputs": [],
   "source": [
    "submission.to_csv('../submission/FINAL_7_3_afterprocessing.csv', index = False)"
   ]
  },
  {
   "cell_type": "markdown",
   "id": "c76c6dab",
   "metadata": {},
   "source": [
    "***\n",
    "***"
   ]
  }
 ],
 "metadata": {
  "kernelspec": {
   "display_name": "Python 3 (ipykernel)",
   "language": "python",
   "name": "python3"
  },
  "language_info": {
   "codemirror_mode": {
    "name": "ipython",
    "version": 3
   },
   "file_extension": ".py",
   "mimetype": "text/x-python",
   "name": "python",
   "nbconvert_exporter": "python",
   "pygments_lexer": "ipython3",
   "version": "3.9.13"
  }
 },
 "nbformat": 4,
 "nbformat_minor": 5
}
