{
 "cells": [
  {
   "cell_type": "markdown",
   "id": "767702f0",
   "metadata": {},
   "source": [
    "# ENSEMBLE 1"
   ]
  },
  {
   "cell_type": "markdown",
   "id": "1991fc20",
   "metadata": {},
   "source": [
    "## cat 15호 -> 전체데이터셋 학습\n",
    "## cat 25호 -> 900보다 작은 데이터들로만 학습"
   ]
  },
  {
   "cell_type": "code",
   "execution_count": 107,
   "id": "05178daa",
   "metadata": {},
   "outputs": [],
   "source": [
    "import random\n",
    "import glob\n",
    "import os\n",
    "import re\n",
    "import pandas as pd\n",
    "import numpy as np\n",
    "from tqdm.auto import tqdm\n",
    "from sklearn.preprocessing import LabelEncoder\n",
    "\n",
    "import torch\n",
    "import torch.nn as nn\n",
    "import torch.optim as optim\n",
    "import torch.nn.functional as F\n",
    "from torch.utils.data import Dataset, DataLoader, random_split"
   ]
  },
  {
   "cell_type": "code",
   "execution_count": 108,
   "id": "8fe9e8cc",
   "metadata": {},
   "outputs": [],
   "source": [
    "submit1 = pd.read_csv('./상준_CAT_25호.csv')\n",
    "submit2 = pd.read_csv('./상준_CAT_15호.csv')"
   ]
  },
  {
   "cell_type": "code",
   "execution_count": 109,
   "id": "ee6f9bc8",
   "metadata": {},
   "outputs": [],
   "source": [
    "submit_w = pd.read_csv('./sample_submission.csv')\n",
    "submit_p = pd.read_csv('./sample_submission.csv')\n",
    "submit_f = pd.read_csv('./sample_submission.csv')\n"
   ]
  },
  {
   "cell_type": "markdown",
   "id": "f63b4db9",
   "metadata": {},
   "source": [
    "# 기하평균"
   ]
  },
  {
   "cell_type": "code",
   "execution_count": 110,
   "id": "a1803a51",
   "metadata": {},
   "outputs": [],
   "source": [
    "submit_f['weight'] = np.sqrt(submit1['weight'] * submit2['weight'])"
   ]
  },
  {
   "cell_type": "code",
   "execution_count": 111,
   "id": "bc3a1757",
   "metadata": {},
   "outputs": [],
   "source": [
    "submit_f.to_csv('상준기하평균.csv', index=False)"
   ]
  },
  {
   "cell_type": "markdown",
   "id": "d26538dc",
   "metadata": {},
   "source": [
    "# ENSEMBLE 2"
   ]
  },
  {
   "cell_type": "markdown",
   "id": "c0579389",
   "metadata": {},
   "source": [
    "# cat 15호와 cat25호를 앙상블 한 값 (상준기하평균) 을 LGBM_58 와 앙상블"
   ]
  },
  {
   "cell_type": "code",
   "execution_count": 112,
   "id": "f577cd70",
   "metadata": {},
   "outputs": [],
   "source": [
    "submit_w = pd.read_csv('./sample_submission.csv')\n",
    "submit_p = pd.read_csv('./sample_submission.csv')\n",
    "submit_f = pd.read_csv('./sample_submission.csv')"
   ]
  },
  {
   "cell_type": "code",
   "execution_count": 113,
   "id": "32df6307",
   "metadata": {},
   "outputs": [],
   "source": [
    "submit1 = pd.read_csv('./상준기하평균.csv')\n",
    "submit2 = pd.read_csv('./LGBM_58.csv')"
   ]
  },
  {
   "cell_type": "code",
   "execution_count": 114,
   "id": "60417ff0",
   "metadata": {},
   "outputs": [],
   "source": [
    "# 200이 베스트"
   ]
  },
  {
   "cell_type": "code",
   "execution_count": 115,
   "id": "a05e49c7",
   "metadata": {},
   "outputs": [],
   "source": [
    "submit1.loc[submit1['weight'] > 200, 'weight'] = submit1.loc[submit1['weight'] > 200,]['weight'].apply(lambda x : np.round(x, -2))"
   ]
  },
  {
   "cell_type": "code",
   "execution_count": 116,
   "id": "7b226bbe",
   "metadata": {},
   "outputs": [],
   "source": [
    "submit_w['weight'] = np.sqrt(submit1['weight'] * submit2['weight'])\n",
    "submit_p['weight'] = submit1['weight'] *0.75 + submit2['weight'] * 0.25 #-> BEST ## 8:2 -> BEST"
   ]
  },
  {
   "cell_type": "code",
   "execution_count": 117,
   "id": "4a1a3f4e",
   "metadata": {},
   "outputs": [],
   "source": [
    "submit_f['weight'] = np.sqrt(submit_w['weight'] * submit_p['weight'])"
   ]
  },
  {
   "cell_type": "code",
   "execution_count": 118,
   "id": "0143d366",
   "metadata": {},
   "outputs": [
    {
     "data": {
      "text/html": [
       "<div>\n",
       "<style scoped>\n",
       "    .dataframe tbody tr th:only-of-type {\n",
       "        vertical-align: middle;\n",
       "    }\n",
       "\n",
       "    .dataframe tbody tr th {\n",
       "        vertical-align: top;\n",
       "    }\n",
       "\n",
       "    .dataframe thead th {\n",
       "        text-align: right;\n",
       "    }\n",
       "</style>\n",
       "<table border=\"1\" class=\"dataframe\">\n",
       "  <thead>\n",
       "    <tr style=\"text-align: right;\">\n",
       "      <th></th>\n",
       "      <th>weight</th>\n",
       "    </tr>\n",
       "  </thead>\n",
       "  <tbody>\n",
       "    <tr>\n",
       "      <th>count</th>\n",
       "      <td>4048.000000</td>\n",
       "    </tr>\n",
       "    <tr>\n",
       "      <th>mean</th>\n",
       "      <td>400.174164</td>\n",
       "    </tr>\n",
       "    <tr>\n",
       "      <th>std</th>\n",
       "      <td>165.562234</td>\n",
       "    </tr>\n",
       "    <tr>\n",
       "      <th>min</th>\n",
       "      <td>47.920934</td>\n",
       "    </tr>\n",
       "    <tr>\n",
       "      <th>25%</th>\n",
       "      <td>289.305273</td>\n",
       "    </tr>\n",
       "    <tr>\n",
       "      <th>50%</th>\n",
       "      <td>400.000000</td>\n",
       "    </tr>\n",
       "    <tr>\n",
       "      <th>75%</th>\n",
       "      <td>561.195572</td>\n",
       "    </tr>\n",
       "    <tr>\n",
       "      <th>max</th>\n",
       "      <td>800.000000</td>\n",
       "    </tr>\n",
       "  </tbody>\n",
       "</table>\n",
       "</div>"
      ],
      "text/plain": [
       "            weight\n",
       "count  4048.000000\n",
       "mean    400.174164\n",
       "std     165.562234\n",
       "min      47.920934\n",
       "25%     289.305273\n",
       "50%     400.000000\n",
       "75%     561.195572\n",
       "max     800.000000"
      ]
     },
     "execution_count": 118,
     "metadata": {},
     "output_type": "execute_result"
    }
   ],
   "source": [
    "submit_f.describe()"
   ]
  },
  {
   "cell_type": "code",
   "execution_count": 119,
   "id": "051e91a9",
   "metadata": {},
   "outputs": [],
   "source": [
    "submit_f.to_csv('최종앙상블제출파일.csv', index=False)"
   ]
  }
 ],
 "metadata": {
  "kernelspec": {
   "display_name": "Python 3 (ipykernel)",
   "language": "python",
   "name": "python3"
  },
  "language_info": {
   "codemirror_mode": {
    "name": "ipython",
    "version": 3
   },
   "file_extension": ".py",
   "mimetype": "text/x-python",
   "name": "python",
   "nbconvert_exporter": "python",
   "pygments_lexer": "ipython3",
   "version": "3.9.13"
  }
 },
 "nbformat": 4,
 "nbformat_minor": 5
}
